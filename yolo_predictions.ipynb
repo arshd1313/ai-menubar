{
 "cells": [
  {
   "cell_type": "code",
   "execution_count": 4,
   "id": "53dca041",
   "metadata": {},
   "outputs": [],
   "source": [
    "#!pip install PyYAML"
   ]
  },
  {
   "cell_type": "code",
   "execution_count": 49,
   "id": "22b2c4c4",
   "metadata": {},
   "outputs": [],
   "source": [
    "import cv2\n",
    "import numpy as np\n",
    "import os\n",
    "import yaml\n",
    "from yaml.loader import SafeLoader"
   ]
  },
  {
   "cell_type": "code",
   "execution_count": 50,
   "id": "9869a456",
   "metadata": {},
   "outputs": [
    {
     "name": "stdout",
     "output_type": "stream",
     "text": [
      "['menu', 'menu-bar', 'menu-icon', 'decorators']\n"
     ]
    }
   ],
   "source": [
    "# load YAML\n",
    "with open('data.yaml',mode='r') as f:\n",
    "    data_yaml = yaml.load(f,Loader=SafeLoader)\n",
    "    \n",
    "labels = data_yaml['names']\n",
    "print(labels)"
   ]
  },
  {
   "cell_type": "code",
   "execution_count": 51,
   "id": "71493f43",
   "metadata": {},
   "outputs": [],
   "source": [
    "# load YOLO model\n",
    "yolo = cv2.dnn.readNetFromONNX('/home/lenovo/temp-image-detec/Model5/weights/best.onnx')\n",
    "yolo.setPreferableBackend(cv2.dnn.DNN_BACKEND_OPENCV)\n",
    "yolo.setPreferableTarget(cv2.dnn.DNN_TARGET_CPU)"
   ]
  },
  {
   "cell_type": "code",
   "execution_count": 65,
   "id": "ba04383c",
   "metadata": {},
   "outputs": [],
   "source": [
    "# load the image\n",
    "img = cv2.imread('/home/lenovo/temp-image-detec/image 244.png')\n",
    "image = img.copy()\n",
    "row, col, d = image.shape\n",
    "\n",
    "\n",
    "# get the YOLO prediction from the the image\n",
    "# step-1 convert image into square image (array)\n",
    "max_rc = max(row,col)\n",
    "input_image = np.zeros((max_rc,max_rc,3),dtype=np.uint8)\n",
    "input_image[0:row,0:col] = image\n",
    "# step-2: get prediction from square array\n",
    "INPUT_WH_YOLO = 640\n",
    "blob = cv2.dnn.blobFromImage(input_image,1/255,(INPUT_WH_YOLO,INPUT_WH_YOLO),swapRB=True,crop=False)\n",
    "yolo.setInput(blob)\n",
    "preds = yolo.forward() # detection or prediction from YOLO"
   ]
  },
  {
   "cell_type": "code",
   "execution_count": 66,
   "id": "f7372500",
   "metadata": {},
   "outputs": [
    {
     "name": "stdout",
     "output_type": "stream",
     "text": [
      "(1, 25200, 9)\n"
     ]
    }
   ],
   "source": [
    "print(preds.shape)"
   ]
  },
  {
   "cell_type": "code",
   "execution_count": 76,
   "id": "b496dda5",
   "metadata": {},
   "outputs": [],
   "source": [
    "# Non Maximum Supression\n",
    "# step-1: filter detection based on confidence (0.4) and probability score (0.25)\n",
    "detections = preds[0]\n",
    "boxes = []\n",
    "confidences = []\n",
    "classes = []\n",
    "\n",
    "# widht and height of the image (input_image)\n",
    "image_w, image_h = input_image.shape[:2]\n",
    "x_factor = image_w/INPUT_WH_YOLO\n",
    "y_factor = image_h/INPUT_WH_YOLO\n",
    "\n",
    "for i in range(len(detections)):\n",
    "    row = detections[i]\n",
    "    confidence = row[4] # confidence of detection an object\n",
    "    if confidence > 0.055:\n",
    "        class_score = row[5:].max() # maximum probability from 20 objects\n",
    "        class_id = row[5:].argmax() # get the index position at which max probabilty occur\n",
    "        \n",
    "        if class_score > 0.055:\n",
    "            cx, cy, w, h = row[0:4]\n",
    "            # construct bounding from four values\n",
    "            # left, top, width and height\n",
    "            left = int((cx - 0.5*w)*x_factor)\n",
    "            top = int((cy - 0.5*h)*y_factor)\n",
    "            width = int(w*x_factor)\n",
    "            height = int(h*y_factor)\n",
    "            \n",
    "            box = np.array([left,top,width,height])\n",
    "            \n",
    "            # append values into the list\n",
    "            confidences.append(confidence)\n",
    "            boxes.append(box)\n",
    "            classes.append(class_id)\n",
    "            \n",
    "# clean\n",
    "boxes_np = np.array(boxes).tolist()\n",
    "confidences_np = np.array(confidences).tolist()\n",
    "\n",
    "# NMS\n",
    "index = cv2.dnn.NMSBoxes(boxes_np,confidences_np,0.25,0.45).flatten()\n"
   ]
  },
  {
   "cell_type": "code",
   "execution_count": 77,
   "metadata": {},
   "outputs": [
    {
     "data": {
      "text/plain": [
       "[0.06112714111804962,\n",
       " 0.06750021874904633,\n",
       " 0.061311498284339905,\n",
       " 0.0580921471118927,\n",
       " 0.06524455547332764,\n",
       " 0.05946242809295654,\n",
       " 0.07778619974851608,\n",
       " 0.08085272461175919,\n",
       " 0.05601772293448448,\n",
       " 0.06564705818891525,\n",
       " 0.06762740015983582,\n",
       " 0.06538458168506622,\n",
       " 0.0616866759955883,\n",
       " 0.06479623168706894,\n",
       " 0.06602216511964798,\n",
       " 0.07151811569929123,\n",
       " 0.07930142432451248,\n",
       " 0.10626809298992157,\n",
       " 0.0994148701429367,\n",
       " 0.055450841784477234,\n",
       " 0.05940759927034378,\n",
       " 0.07341519743204117,\n",
       " 0.06659888476133347,\n",
       " 0.07250063121318817,\n",
       " 0.07617131620645523,\n",
       " 0.0649048462510109,\n",
       " 0.05545021966099739,\n",
       " 0.06335709244012833,\n",
       " 0.06668435782194138,\n",
       " 0.0695316269993782,\n",
       " 0.06839379668235779,\n",
       " 0.07108091562986374,\n",
       " 0.09841851145029068,\n",
       " 0.0982341468334198,\n",
       " 0.062420785427093506,\n",
       " 0.0663292333483696,\n",
       " 0.0761517658829689,\n",
       " 0.07903257757425308,\n",
       " 0.07812485098838806,\n",
       " 0.07445693761110306,\n",
       " 0.07666155695915222,\n",
       " 0.07791288197040558,\n",
       " 0.08699978142976761,\n",
       " 0.0984436571598053,\n",
       " 0.12719053030014038,\n",
       " 0.11610803753137589,\n",
       " 0.05824652314186096,\n",
       " 0.05666753649711609,\n",
       " 0.06981802731752396,\n",
       " 0.06799722462892532,\n",
       " 0.056408584117889404,\n",
       " 0.06048739701509476,\n",
       " 0.0676746815443039,\n",
       " 0.08145437389612198,\n",
       " 0.07457792013883591,\n",
       " 0.05899447575211525,\n",
       " 0.09067638963460922,\n",
       " 0.10434244573116302,\n",
       " 0.12405074387788773,\n",
       " 0.17259256541728973,\n",
       " 0.19260482490062714,\n",
       " 0.18949458003044128,\n",
       " 0.19055669009685516,\n",
       " 0.22556501626968384,\n",
       " 0.23788665235042572,\n",
       " 0.19683179259300232,\n",
       " 0.15237043797969818,\n",
       " 0.126962348818779,\n",
       " 0.09415648877620697,\n",
       " 0.06568627804517746,\n",
       " 0.07095170021057129,\n",
       " 0.09533484280109406,\n",
       " 0.16363945603370667,\n",
       " 0.20508141815662384,\n",
       " 0.20062190294265747,\n",
       " 0.21280509233474731,\n",
       " 0.25428900122642517,\n",
       " 0.2530779242515564,\n",
       " 0.1989186704158783,\n",
       " 0.152757927775383,\n",
       " 0.10654927045106888,\n",
       " 0.0789574533700943,\n",
       " 0.0566609725356102,\n",
       " 0.06162145361304283,\n",
       " 0.08569565415382385,\n",
       " 0.0976121723651886,\n",
       " 0.1064351350069046,\n",
       " 0.16006800532341003,\n",
       " 0.17625097930431366,\n",
       " 0.1717052310705185,\n",
       " 0.17413073778152466,\n",
       " 0.210531547665596,\n",
       " 0.22989515960216522,\n",
       " 0.17794692516326904,\n",
       " 0.14194083213806152,\n",
       " 0.11197986453771591,\n",
       " 0.08638758212327957,\n",
       " 0.05872891843318939,\n",
       " 0.06167870759963989,\n",
       " 0.07791357487440109,\n",
       " 0.13788072764873505,\n",
       " 0.17582084238529205,\n",
       " 0.17336012423038483,\n",
       " 0.1796608567237854,\n",
       " 0.21627330780029297,\n",
       " 0.22274330258369446,\n",
       " 0.17864950001239777,\n",
       " 0.14489524066448212,\n",
       " 0.10534435510635376,\n",
       " 0.08218175917863846,\n",
       " 0.1261134296655655,\n",
       " 0.18224872648715973,\n",
       " 0.19682632386684418,\n",
       " 0.23431071639060974,\n",
       " 0.07214750349521637,\n",
       " 0.2518865466117859,\n",
       " 0.21599972248077393,\n",
       " 0.17529459297657013,\n",
       " 0.24769063293933868,\n",
       " 0.11344785988330841,\n",
       " 0.1660802960395813,\n",
       " 0.17673923075199127,\n",
       " 0.20533813536167145,\n",
       " 0.06833618879318237,\n",
       " 0.05757847800850868,\n",
       " 0.2714872360229492,\n",
       " 0.23136278986930847,\n",
       " 0.18839265406131744,\n",
       " 0.2741526961326599,\n",
       " 0.05796582251787186,\n",
       " 0.05597282573580742,\n",
       " 0.12528842687606812,\n",
       " 0.12603557109832764,\n",
       " 0.11274191737174988,\n",
       " 0.150042325258255]"
      ]
     },
     "execution_count": 77,
     "metadata": {},
     "output_type": "execute_result"
    }
   ],
   "source": [
    "confidences_np\n"
   ]
  },
  {
   "cell_type": "code",
   "execution_count": 78,
   "id": "cbabdfba",
   "metadata": {},
   "outputs": [],
   "source": [
    "# Draw the Bounding\n",
    "for ind in index:\n",
    "    # extract bounding box\n",
    "    x,y,w,h = boxes_np[ind]\n",
    "    bb_conf = int(confidences_np[ind]*100)\n",
    "    classes_id = classes[ind]\n",
    "    class_name = labels[classes_id]\n",
    "    \n",
    "    text = f'{class_name}: {bb_conf}%'\n",
    "    \n",
    "    cv2.rectangle(image,(x,y),(x+w,y+h),(0,255,0),2)\n",
    "    cv2.rectangle(image,(x,y-30),(x+w,y),(255,255,255),-1)\n",
    "    \n",
    "    cv2.putText(image,text,(x,y-10),cv2.FONT_HERSHEY_PLAIN,0.7,(0,0,0),1)\n",
    "    \n"
   ]
  },
  {
   "cell_type": "code",
   "execution_count": 79,
   "id": "18feeb11",
   "metadata": {},
   "outputs": [],
   "source": [
    "cv2.imshow('original',img)\n",
    "cv2.imshow('yolo_prediction',image)\n",
    "cv2.waitKey(0)\n",
    "cv2.destroyAllWindows()"
   ]
  },
  {
   "cell_type": "code",
   "execution_count": null,
   "id": "7809b3d5",
   "metadata": {},
   "outputs": [],
   "source": []
  },
  {
   "cell_type": "code",
   "execution_count": null,
   "id": "6ce47055",
   "metadata": {},
   "outputs": [],
   "source": []
  },
  {
   "cell_type": "code",
   "execution_count": null,
   "id": "7dce5b72",
   "metadata": {},
   "outputs": [],
   "source": []
  },
  {
   "cell_type": "code",
   "execution_count": null,
   "id": "44b67f8a",
   "metadata": {},
   "outputs": [],
   "source": []
  },
  {
   "cell_type": "code",
   "execution_count": null,
   "id": "18568f2c",
   "metadata": {},
   "outputs": [],
   "source": []
  },
  {
   "cell_type": "code",
   "execution_count": null,
   "id": "49c9b032",
   "metadata": {},
   "outputs": [],
   "source": []
  },
  {
   "cell_type": "code",
   "execution_count": null,
   "id": "b88f7566",
   "metadata": {},
   "outputs": [],
   "source": []
  },
  {
   "cell_type": "code",
   "execution_count": null,
   "id": "8a0b4c06",
   "metadata": {},
   "outputs": [],
   "source": []
  },
  {
   "cell_type": "code",
   "execution_count": null,
   "id": "6fdb3eff",
   "metadata": {},
   "outputs": [],
   "source": []
  },
  {
   "cell_type": "code",
   "execution_count": null,
   "id": "f66ea84b",
   "metadata": {},
   "outputs": [],
   "source": []
  },
  {
   "cell_type": "code",
   "execution_count": null,
   "id": "ea426b74",
   "metadata": {},
   "outputs": [],
   "source": []
  },
  {
   "cell_type": "code",
   "execution_count": null,
   "id": "ecf06fef",
   "metadata": {},
   "outputs": [],
   "source": []
  },
  {
   "cell_type": "code",
   "execution_count": null,
   "id": "6a289a99",
   "metadata": {},
   "outputs": [],
   "source": []
  },
  {
   "cell_type": "code",
   "execution_count": null,
   "id": "a11de9ab",
   "metadata": {},
   "outputs": [],
   "source": []
  },
  {
   "cell_type": "code",
   "execution_count": null,
   "id": "7ac9c7ec",
   "metadata": {},
   "outputs": [],
   "source": []
  },
  {
   "cell_type": "code",
   "execution_count": null,
   "id": "3ba86a70",
   "metadata": {},
   "outputs": [],
   "source": []
  },
  {
   "cell_type": "code",
   "execution_count": null,
   "id": "b59dafe1",
   "metadata": {},
   "outputs": [],
   "source": []
  },
  {
   "cell_type": "code",
   "execution_count": null,
   "id": "0ce92a13",
   "metadata": {},
   "outputs": [],
   "source": []
  }
 ],
 "metadata": {
  "kernelspec": {
   "display_name": "Python 3 (ipykernel)",
   "language": "python",
   "name": "python3"
  },
  "language_info": {
   "codemirror_mode": {
    "name": "ipython",
    "version": 3
   },
   "file_extension": ".py",
   "mimetype": "text/x-python",
   "name": "python",
   "nbconvert_exporter": "python",
   "pygments_lexer": "ipython3",
   "version": "3.8.10"
  }
 },
 "nbformat": 4,
 "nbformat_minor": 5
}
